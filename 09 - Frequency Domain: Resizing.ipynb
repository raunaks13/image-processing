{
  "nbformat": 4,
  "nbformat_minor": 0,
  "metadata": {
    "kernelspec": {
      "display_name": "Python 3",
      "language": "python",
      "name": "python3"
    },
    "language_info": {
      "codemirror_mode": {
        "name": "ipython",
        "version": 3
      },
      "file_extension": ".py",
      "mimetype": "text/x-python",
      "name": "python",
      "nbconvert_exporter": "python",
      "pygments_lexer": "ipython3",
      "version": "3.7.6"
    },
    "colab": {
      "name": "Task_1.ipynb",
      "provenance": []
    }
  },
  "cells": [
    {
      "cell_type": "code",
      "metadata": {
        "id": "UZTX8EgwqeqQ"
      },
      "source": [
        "# Copyright 2020 IITK EE604A Image Processing. All Rights Reserved.\n",
        "# \n",
        "# Licensed under the MIT License. Use and/or modification of this code outside of EE604 must reference:\n",
        "#\n",
        "# © IITK EE604A Image Processing \n",
        "# https://github.com/ee604/ee604_assignments\n",
        "#\n",
        "# Author: Shashi Kant Gupta, Chiranjeev Prachand and Prof K. S. Venkatesh, Department of Electrical Engineering, IIT Kanpur"
      ],
      "execution_count": null,
      "outputs": []
    },
    {
      "cell_type": "markdown",
      "metadata": {
        "id": "cTQr7TiPqeqx"
      },
      "source": [
        "# Task 1: Frequency Domain Analysis - Resizing\n",
        "\n",
        "Remember, we already did this using operation in the spatial domain (interpolation methods)? Now let's do the same thing using frequency domain analysis."
      ]
    },
    {
      "cell_type": "code",
      "metadata": {
        "id": "79QpdDNcqeq0",
        "colab": {
          "base_uri": "https://localhost:8080/"
        },
        "outputId": "730d5778-e9a3-4e07-8887-9ed8d32792d9"
      },
      "source": [
        "%%bash\n",
        "pip install git+https://github.com/ee604/ee604_plugins"
      ],
      "execution_count": 1,
      "outputs": [
        {
          "output_type": "stream",
          "text": [
            "Collecting git+https://github.com/ee604/ee604_plugins\n",
            "  Cloning https://github.com/ee604/ee604_plugins to /tmp/pip-req-build-5byht8zp\n",
            "Building wheels for collected packages: ee604-plugins\n",
            "  Building wheel for ee604-plugins (setup.py): started\n",
            "  Building wheel for ee604-plugins (setup.py): finished with status 'done'\n",
            "  Created wheel for ee604-plugins: filename=ee604_plugins-0.3.2-cp36-none-any.whl size=2311 sha256=c84e6446d2b1b1c7b67a770ae1b2d55851781fc32d15d717ac6f3b92c654f060\n",
            "  Stored in directory: /tmp/pip-ephem-wheel-cache-owht7g4_/wheels/34/a8/1d/ae3b7d209ecde89b4800a47ec55a61e7503bb9548bbb975806\n",
            "Successfully built ee604-plugins\n",
            "Installing collected packages: ee604-plugins\n",
            "Successfully installed ee604-plugins-0.3.2\n"
          ],
          "name": "stdout"
        },
        {
          "output_type": "stream",
          "text": [
            "  Running command git clone -q https://github.com/ee604/ee604_plugins /tmp/pip-req-build-5byht8zp\n"
          ],
          "name": "stderr"
        }
      ]
    },
    {
      "cell_type": "code",
      "metadata": {
        "id": "C74pASFQqerH",
        "colab": {
          "base_uri": "https://localhost:8080/"
        },
        "outputId": "95248882-be49-42d2-fcec-510681dc0776"
      },
      "source": [
        "# Importing required libraries\n",
        "\n",
        "import cv2\n",
        "import numpy as np\n",
        "import matplotlib.pyplot as plt\n",
        "\n",
        "from ee604_plugins import download_dataset, cv2_imshow\n",
        "\n",
        "download_dataset(assignment_no=3, task_no=1) # download data for this assignment"
      ],
      "execution_count": 2,
      "outputs": [
        {
          "output_type": "stream",
          "text": [
            "Download Complete!\n"
          ],
          "name": "stdout"
        }
      ]
    },
    {
      "cell_type": "code",
      "metadata": {
        "id": "_2bHtTnPqerT"
      },
      "source": [
        "def resize_ft(img, k=1):\n",
        "    '''\n",
        "    Write a program to resize the given image by a factor 'k' using frequency domain analysis.\n",
        "    \n",
        "    Inputs:\n",
        "    + img - Original image\n",
        "    + k - resampling factor, therefore if input image size is 300x300 \n",
        "        - and k=0.5 ==> output image size = 150x150\n",
        "        - use int(k*input_image_size) to find the nearest integer\n",
        "    \n",
        "    Ouputs:\n",
        "    + out_img - numpy array (of dtype np.uint8) containing the output image.\n",
        "              - range should be between (0, 255) which may not be the case when u run the inverse DFT. \n",
        "              - Therefore, normalise the image by img = (img - min(img))/max(img) to rescale the values to (0, 255)\n",
        "    \n",
        "    Allowed external package:\n",
        "    + You are allowed to use any cv2.dft or cv2.idft module or any other suitable module in numpy and cv2 \n",
        "    + Just make sure you do not use any direct implementation.\n",
        "    \n",
        "    Hints:\n",
        "    + For upscaling - pad the frquency domain signal with zeros around the center of the image. \n",
        "    + For downscaling - crop the frequency domain signal at the centre of required size.\n",
        "    + PS - Make sure to use proper shift operation on output of cv2.dft so that your frequency domain signal \n",
        "         - assumes the centre of the image to be origin\n",
        "    \n",
        "    '''\n",
        "    \n",
        "    #############################\n",
        "    # Start your code from here #\n",
        "    #############################\n",
        "    \n",
        "    # Replace with your code...\n",
        "    ft = cv2.dft(img.astype(np.float32), flags = cv2.DFT_COMPLEX_OUTPUT)\n",
        "    centered_ft = np.fft.fftshift(ft)\n",
        "\n",
        "    m, n = img.shape\n",
        "    new_m = int(k*img.shape[0])\n",
        "    new_n = int(k*img.shape[1])\n",
        "    new_ft = np.zeros((new_m, new_n, 2))\n",
        "\n",
        "    if k >= 1:\n",
        "        new_ft[new_m//2 - m//2:new_m//2 + (m - m//2), new_n//2 - n//2:new_n//2 + (n - n//2)] = centered_ft\n",
        "    elif k < 1:\n",
        "        new_ft = centered_ft[m//2 - new_m//2:m//2 + (new_m - new_m//2), n//2 - new_n//2:n//2 + (new_n - new_n//2)] \n",
        "\n",
        "    uncentered = np.fft.ifftshift(new_ft)\n",
        "    image = cv2.idft(uncentered)\n",
        "    mag_img = np.sqrt(image[:, :, 0]**2 + image[:, :, 1]**2)\n",
        "    norm_img = (mag_img - np.min(mag_img))/(np.max(mag_img))*255\n",
        "\n",
        "    out_img = norm_img.astype(np.uint8)\n",
        "    #############################\n",
        "    # End your code here ########\n",
        "    #############################    \n",
        "    \n",
        "    return out_img"
      ],
      "execution_count": 3,
      "outputs": []
    },
    {
      "cell_type": "markdown",
      "metadata": {
        "id": "JYJkpd7Iqerh"
      },
      "source": [
        "### Observations"
      ]
    },
    {
      "cell_type": "code",
      "metadata": {
        "id": "zhtCD4zBqerj",
        "colab": {
          "base_uri": "https://localhost:8080/",
          "height": 1000
        },
        "outputId": "461c2db4-b1ed-436e-8f8e-54ee7217b3ef"
      },
      "source": [
        "# Do not change codes inside this cell\n",
        "# Add your observations in next cell\n",
        "# Your observation should compare the output for different values of k\n",
        "\n",
        "data = cv2.imread(\"data/parallel_lines.jpg\", 0)\n",
        "\n",
        "print(\"Original\")\n",
        "cv2_imshow(data)\n",
        "\n",
        "for k in [0.49, 0.5, 0.51, 1.96, 2, 2.04]:\n",
        "    tmp = resize_ft(data, k=k)\n",
        "    print(\" k = \" + str(k))\n",
        "    cv2_imshow(tmp)"
      ],
      "execution_count": 4,
      "outputs": [
        {
          "output_type": "stream",
          "text": [
            "Original\n"
          ],
          "name": "stdout"
        },
        {
          "output_type": "display_data",
          "data": {
            "image/png": "[encoded data removed]",
            "text/plain": [
              "<PIL.Image.Image image mode=L size=512x512 at 0x7FDEDDB54828>"
            ]
          },
          "metadata": {
            "tags": []
          }
        },
        {
          "output_type": "stream",
          "text": [
            " k = 0.49\n"
          ],
          "name": "stdout"
        },
        {
          "output_type": "display_data",
          "data": {
            "image/png": "[encoded data removed]",
            "text/plain": [
              "<PIL.Image.Image image mode=L size=250x250 at 0x7FDEDDABD400>"
            ]
          },
          "metadata": {
            "tags": []
          }
        },
        {
          "output_type": "stream",
          "text": [
            " k = 0.5\n"
          ],
          "name": "stdout"
        },
        {
          "output_type": "display_data",
          "data": {
            "image/png": "[encoded data removed]",
            "text/plain": [
              "<PIL.Image.Image image mode=L size=256x256 at 0x7FDEDDABD860>"
            ]
          },
          "metadata": {
            "tags": []
          }
        },
        {
          "output_type": "stream",
          "text": [
            " k = 0.51\n"
          ],
          "name": "stdout"
        },
        {
          "output_type": "display_data",
          "data": {
            "image/png": "[encoded data removed]",
            "text/plain": [
              "<PIL.Image.Image image mode=L size=261x261 at 0x7FDEDDABD400>"
            ]
          },
          "metadata": {
            "tags": []
          }
        },
        {
          "output_type": "stream",
          "text": [
            " k = 1.96\n"
          ],
          "name": "stdout"
        },
        {
          "output_type": "display_data",
          "data": {
            "image/png": "[encoded data removed]",
            "text/plain": [
              "<PIL.Image.Image image mode=L size=1003x1003 at 0x7FDEDDABD860>"
            ]
          },
          "metadata": {
            "tags": []
          }
        },
        {
          "output_type": "stream",
          "text": [
            " k = 2\n"
          ],
          "name": "stdout"
        },
        {
          "output_type": "display_data",
          "data": {
            "image/png": "[encoded data removed]",
            "text/plain": [
              "<PIL.Image.Image image mode=L size=1024x1024 at 0x7FDEDDABDCC0>"
            ]
          },
          "metadata": {
            "tags": []
          }
        },
        {
          "output_type": "stream",
          "text": [
            " k = 2.04\n"
          ],
          "name": "stdout"
        },
        {
          "output_type": "display_data",
          "data": {
            "image/png": "[encoded data removed]",
            "text/plain": [
              "<PIL.Image.Image image mode=L size=1044x1044 at 0x7FDEDDABD400>"
            ]
          },
          "metadata": {
            "tags": []
          }
        }
      ]
    },
    {
      "cell_type": "code",
      "metadata": {
        "id": "k9frJnLfqeru",
        "colab": {
          "base_uri": "https://localhost:8080/"
        },
        "outputId": "41ac2b31-7847-4fa5-ec17-a801456e36d1"
      },
      "source": [
        "your_observation = \"\"\"\n",
        "k = 0.49: The image is black - the stripes are too close together considering the pixel resolution\n",
        "k = 0.5: We can barely see very thin bands of black/white stripes\n",
        "k = 0.51: There is an alternating pattern of dark and light areas\n",
        "k = 1.96, 2, 2.04: Black and white stripes are quite clearly visible here\n",
        "\"\"\"\n",
        "\n",
        "print(your_observation)"
      ],
      "execution_count": 5,
      "outputs": [
        {
          "output_type": "stream",
          "text": [
            "\n",
            "k = 0.49: The image is black - the stripes are too close together considering the pixel resolution\n",
            "k = 0.5: We can barely see very thin bands of black/white stripes\n",
            "k = 0.51: There is an alternating pattern of dark and light areas\n",
            "k = 1.96, 2, 2.04: Black and white stripes are quite clearly visible here\n",
            "\n"
          ],
          "name": "stdout"
        }
      ]
    },
    {
      "cell_type": "code",
      "metadata": {
        "id": "7bRUPwZtqer5"
      },
      "source": [
        "# Submission >>>>>>>>>>>>>>>>>>>>>\n",
        "# Do not change codes inside this cell.\n",
        "\n",
        "gen_imgs = []\n",
        "data = cv2.imread(\"data/parallel_lines.jpg\", 0)\n",
        "\n",
        "for k in [0.49, 0.5, 0.51, 1.96, 2, 2.04]:\n",
        "    tmp = resize_ft(data, k=k)\n",
        "    gen_imgs.append(tmp)\n",
        "\n",
        "task1_submission = np.array(gen_imgs)"
      ],
      "execution_count": 6,
      "outputs": []
    },
    {
      "cell_type": "code",
      "metadata": {
        "id": "HfclnPj4qesC"
      },
      "source": [
        ""
      ],
      "execution_count": null,
      "outputs": []
    }
  ]
}