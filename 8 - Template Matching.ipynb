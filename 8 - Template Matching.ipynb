{
  "nbformat": 4,
  "nbformat_minor": 0,
  "metadata": {
    "kernelspec": {
      "display_name": "Python 3",
      "language": "python",
      "name": "python3"
    },
    "language_info": {
      "codemirror_mode": {
        "name": "ipython",
        "version": 3
      },
      "file_extension": ".py",
      "mimetype": "text/x-python",
      "name": "python",
      "nbconvert_exporter": "python",
      "pygments_lexer": "ipython3",
      "version": "3.7.6"
    },
    "colab": {
      "name": "Task_4_Bonus.ipynb",
      "provenance": []
    }
  },
  "cells": [
    {
      "cell_type": "code",
      "metadata": {
        "id": "EQX5srxNZQAB"
      },
      "source": [
        "# Copyright 2020 IITK EE604A Image Processing. All Rights Reserved.\n",
        "# \n",
        "# Licensed under the MIT License. Use and/or modification of this code outside of EE604 must reference:\n",
        "#\n",
        "# © IITK EE604A Image Processing \n",
        "# https://github.com/ee604/ee604_assignments\n",
        "#\n",
        "# Author: Shashi Kant Gupta, Chiranjeev Prachand and Prof K. S. Venkatesh, Department of Electrical Engineering, IIT Kanpur"
      ],
      "execution_count": null,
      "outputs": []
    },
    {
      "cell_type": "markdown",
      "metadata": {
        "id": "I9fG9FwHZQAV"
      },
      "source": [
        "# Task 4 (Bonus Question): Template Matching and Visual Search\n",
        "\n",
        "In this bonus task, you will study about template matching algorithm, which is used to search and find a template image in a larger image. You will then use this method and techniques you learned in task1, task2, and task3 to search for a given \"target\" image in a large cluttered \"search\" image. This task of finding a target image is usually called a visual search task.\n",
        "\n",
        "In this assignment, you will be using this method in a preliminary setting. But this method can be easily generalized to complex visual search tasks. Instead of directly using the image pixels, you first extract features of those images using some deep learning methods or other computer vision algorithms and then apply the template matching method on extracted features instead of the image pixels.\n",
        "\n",
        "**Theories:** \n",
        "* Template Matching: [http://www.cse.psu.edu/~rtc12/CSE486/lecture07.pdf](http://www.cse.psu.edu/~rtc12/CSE486/lecture07.pdf)\n",
        "* Tempalte Matching (Optional): [https://docs.adaptive-vision.com/4.7/studio/machine_vision_guide/TemplateMatching.html](https://docs.adaptive-vision.com/4.7/studio/machine_vision_guide/TemplateMatching.html)\n",
        "* Template Matching Wikipedia: [https://en.wikipedia.org/wiki/Template_matching](https://en.wikipedia.org/wiki/Template_matching)\n",
        "* Visual Search (Optional): [http://www.scholarpedia.org/article/Visual_search](http://www.scholarpedia.org/article/Visual_search)\n",
        "\n",
        "---\n",
        "\n",
        "### Your Task\n",
        "You will be given a set of visual search tasks containing 156 various target images to search in 156 corresponding search images. All image contains only English alphabets. You have to write a python function that will return the (x, y) position of the target in the given search image. You have to use the template matching approach to find the location of the target image. But there's a problem, somehow the provided dataset got corrupted, and it contains lots of noises in it. Smartly using some image enhancement methods to make the images clearer and then applying template matching algorithms could help. It's up to you how you use the techniques taught in EE604 lectures to get the best score. Your score will be evaluated as `score = num_correct_prediction/156`\n",
        "\n",
        "* Assume the target image is of the same size in the search image.\n",
        "* Assume the target image is in the same orientation in the search image.\n",
        "* You are free to use any OpenCV module except `cv2.matchTemplate()`.\n",
        "\n",
        "**Example of Visual Search Task:**\n",
        "![](https://github.com/ee604/ee604_assignments/raw/master/assignment_2/imgs/Example.png)\n",
        "\n",
        "---"
      ]
    },
    {
      "cell_type": "code",
      "metadata": {
        "id": "m7K_wTy8ZQAX",
        "outputId": "c05bdca4-6c8b-481e-baf8-1f4df8ccdf1b",
        "colab": {
          "base_uri": "https://localhost:8080/"
        }
      },
      "source": [
        "%%bash\n",
        "pip install git+https://github.com/ee604/ee604_plugins"
      ],
      "execution_count": 1,
      "outputs": [
        {
          "output_type": "stream",
          "text": [
            "Collecting git+https://github.com/ee604/ee604_plugins\n",
            "  Cloning https://github.com/ee604/ee604_plugins to /tmp/pip-req-build-hzbrrtix\n",
            "Building wheels for collected packages: ee604-plugins\n",
            "  Building wheel for ee604-plugins (setup.py): started\n",
            "  Building wheel for ee604-plugins (setup.py): finished with status 'done'\n",
            "  Created wheel for ee604-plugins: filename=ee604_plugins-0.2.2-cp36-none-any.whl size=2313 sha256=29bec2d905f1574e9e2b9aaca1ec85d213a6aab225f4d4ede38636ed6dd23f94\n",
            "  Stored in directory: /tmp/pip-ephem-wheel-cache-mywrtkik/wheels/34/a8/1d/ae3b7d209ecde89b4800a47ec55a61e7503bb9548bbb975806\n",
            "Successfully built ee604-plugins\n",
            "Installing collected packages: ee604-plugins\n",
            "Successfully installed ee604-plugins-0.2.2\n"
          ],
          "name": "stdout"
        },
        {
          "output_type": "stream",
          "text": [
            "  Running command git clone -q https://github.com/ee604/ee604_plugins /tmp/pip-req-build-hzbrrtix\n"
          ],
          "name": "stderr"
        }
      ]
    },
    {
      "cell_type": "code",
      "metadata": {
        "id": "C5U25HsSZQAm",
        "outputId": "8e4e4f17-9389-453a-f171-da52a0eac4e8",
        "colab": {
          "base_uri": "https://localhost:8080/"
        }
      },
      "source": [
        "# Importing required libraries\n",
        "\n",
        "import cv2\n",
        "import numpy as np\n",
        "from IPython.display import display\n",
        "from PIL import Image\n",
        "import matplotlib.pyplot as plt\n",
        "\n",
        "from ee604_plugins import download_dataset\n",
        "\n",
        "download_dataset(assignment_no=2, task_no=4)"
      ],
      "execution_count": 2,
      "outputs": [
        {
          "output_type": "stream",
          "text": [
            "Download Complete!\n"
          ],
          "name": "stdout"
        }
      ]
    },
    {
      "cell_type": "code",
      "metadata": {
        "id": "oksNXTEDZQAw"
      },
      "source": [
        "X_img = np.load(\"data/search_img.npy\")\n",
        "Y_img = np.load(\"data/target_img.npy\")\n",
        "M_img = np.load(\"data/mask_img.npy\")\n",
        "\n",
        "sample_target = np.copy(Y_img[0])\n",
        "sample_search = np.copy(X_img[0])"
      ],
      "execution_count": 3,
      "outputs": []
    },
    {
      "cell_type": "code",
      "metadata": {
        "id": "JGR1GzrbZQA5"
      },
      "source": [
        "# Do not change codes inside this cell\n",
        "\n",
        "def calc_search_score():\n",
        "    c = 0 \n",
        "    for k in range(len(X_img)):\n",
        "        x, y = searchTarget(np.copy(X_img[k]), np.copy(Y_img[k]))\n",
        "        c += M_img[k][x, y]\n",
        "\n",
        "    return round(c/len(X_img), 2)"
      ],
      "execution_count": 6,
      "outputs": []
    },
    {
      "cell_type": "code",
      "metadata": {
        "id": "vW_Hsbk8ZQBF"
      },
      "source": [
        "def searchTarget(search_img, target_img):\n",
        "    '''    \n",
        "    Inputs:                      \n",
        "    + search_img - image in which you have to search for the target, size = (512, 512) ==> (dim1, dim2)\n",
        "    + target_img - target image, size = (55, 55)\n",
        "    \n",
        "    Ouputs:\n",
        "    + x - index along the first dimension ('dim1') of the search image where the target is present\n",
        "    + y - index along the second dimension ('dim2') of the search image where the target is present\n",
        "    \n",
        "    Allowed external package:\n",
        "    + You are free to use any OpenCV/numpy module except 'cv2.matchTemplate()'.\n",
        "    \n",
        "    Hint:\n",
        "    + Make sure you properly map the index with respect to input image size i.e. (512, 512). \n",
        "      Generally convolution/ correlation operation will reduce your output size by the size \n",
        "      of templated image.\n",
        "    + Correlation operation can be written in terms of convolution operator.\n",
        "    + Use OpenCV's cv2.matchTemplate() to know which method works best and implement corresponding\n",
        "      method using other openCV modules.\n",
        "    + This algorithm can be implemented using the functions you wrote/ used for other three tasks.\n",
        "    \n",
        "    '''\n",
        "    x, y = 0, 0\n",
        "    \n",
        "    #############################\n",
        "    # Start your code from here #\n",
        "    #############################\n",
        "    \n",
        "    # Replace with your code...\n",
        "\n",
        "    def gamma_modification(img, gamma=1):\n",
        "\n",
        "        temp = (img/255)**gamma\n",
        "        out_img = np.clip(temp, a_min=0, a_max=1)*255\n",
        "        out_img = out_img.astype(np.uint8)  \n",
        "\n",
        "        return out_img\n",
        "    \n",
        "    # Median Filtering\n",
        "    X_new = cv2.medianBlur(search_img, ksize=5)\n",
        "    Y_new = cv2.medianBlur(target_img, ksize=5)\n",
        "\n",
        "    # Gamma Modification\n",
        "    X_new = gamma_modification(X_new, 3)\n",
        "    Y_new = gamma_modification(Y_new, 5)\n",
        "\n",
        "    # Template matching with normalized cross correlation\n",
        "    img_ = (X_new - np.mean(X_new))/np.std(X_new)\n",
        "    temp_ = (Y_new - np.mean(Y_new))/np.std(Y_new)\n",
        "    res = cv2.filter2D(img_, -1, temp_)\n",
        "\n",
        "    _,_,_,maxLoc = cv2.minMaxLoc(res)\n",
        "\n",
        "    y = maxLoc[0]\n",
        "    x = maxLoc[1]\n",
        "\n",
        "    #############################\n",
        "    # End your code here ########\n",
        "    #############################\n",
        "    \n",
        "    return x, y"
      ],
      "execution_count": 107,
      "outputs": []
    },
    {
      "cell_type": "code",
      "metadata": {
        "id": "JeBxEZr3ZQBO",
        "outputId": "b1ed4838-fc88-4f20-cb76-49929e97afab",
        "colab": {
          "base_uri": "https://localhost:8080/"
        }
      },
      "source": [
        "# Do not change codes inside this cell\n",
        "score = calc_search_score()\n",
        "print(\"Your score:\", score)"
      ],
      "execution_count": 108,
      "outputs": [
        {
          "output_type": "stream",
          "text": [
            "Your score: 0.96\n"
          ],
          "name": "stdout"
        }
      ]
    },
    {
      "cell_type": "code",
      "metadata": {
        "id": "EU3NRwxW9K8X"
      },
      "source": [
        ""
      ],
      "execution_count": null,
      "outputs": []
    }
  ]
}